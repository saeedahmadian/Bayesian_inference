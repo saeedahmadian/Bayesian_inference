{
    "nbformat_minor": 1, 
    "cells": [
        {
            "execution_count": 2, 
            "cell_type": "code", 
            "metadata": {}, 
            "outputs": [
                {
                    "output_type": "stream", 
                    "name": "stdout", 
                    "text": "conda 4.7.5\r\n"
                }
            ], 
            "source": "! conda --version"
        }, 
        {
            "source": "## Beysian Inference\nIt is a method of inference where the probibility of a hypothesis is updated as new evidence becomes available\n### Steps\n**1. Begin with a prior distribution processes : P(H)\n**2. collect data to obtain the observed distribution P(E) as evidence\n**3. calculate the likelihood of our observation given the hypothesis distribution (you can say we want to know how likely we can generate these observations data given aour hypothesis\ndistribution P(E|H))   \n**4. obtain the posterior or simple update the prior which is the correct distribution for another unseen data) P(H|E)\n\n### bayes rule\n$$\nP(H|E) = \\frac{P(E|H) \\times P(H)}{p(E)} \n$$", 
            "cell_type": "markdown", 
            "metadata": {}
        }, 
        {
            "execution_count": null, 
            "cell_type": "code", 
            "metadata": {}, 
            "outputs": [], 
            "source": ""
        }
    ], 
    "metadata": {
        "kernelspec": {
            "display_name": "Python 3.6 with Spark", 
            "name": "python36", 
            "language": "python3"
        }, 
        "language_info": {
            "mimetype": "text/x-python", 
            "nbconvert_exporter": "python", 
            "version": "3.6.8", 
            "name": "python", 
            "file_extension": ".py", 
            "pygments_lexer": "ipython3", 
            "codemirror_mode": {
                "version": 3, 
                "name": "ipython"
            }
        }
    }, 
    "nbformat": 4
}