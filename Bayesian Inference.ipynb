{
    "nbformat_minor": 1, 
    "cells": [
        {
            "execution_count": 2, 
            "cell_type": "code", 
            "metadata": {}, 
            "outputs": [
                {
                    "output_type": "stream", 
                    "name": "stdout", 
                    "text": "conda 4.7.5\r\n"
                }
            ], 
            "source": "! conda --version"
        }, 
        {
            "source": "## Beysian Inference\nIt is a method of inference where the probibility of a hypothesis is updated as new evidence becomes available\n### Steps\n\n** 1. Begin with a prior distribution processes : P(H)\n\n** 2. collect data to obtain the observed distribution P(E) as evidence\n\n** 3. calculate the likelihood of our observation given the hypothesis distribution (you can say we want to know how likely we can generate these observations data given aour hypothesis\ndistribution P(E|H))   \n\n** 4. obtain the posterior or simple update the prior which is the correct distribution for another unseen data) P(H|E)\n\n### bayes rule\n$$\nP(H|E) = \\frac{P(E|H) \\times P(H)}{p(E)} \n$$", 
            "cell_type": "markdown", 
            "metadata": {}
        }, 
        {
            "source": "## Maximum a posterior estimation\n\n**note : the likelihood of a given sample $x$ is calculated as $p(x|\\mu,\\sigma) = \\frac{1}{\\sqrt{(2\\pi \\sigma^{2})}} \\exp(-\\frac{(x-\\mu)^{2}}{2\\sigma^{2}}) $\n\n**example: we have two class of male and female and their height---> we can compute each class mean and std and then we can create our prior \n\n**now if given a new sample we can predict its class therefore we can do it for unseen samples\n\n**The problem is as \n\n$$\nClass = \\armax_{c \\in {c_{male},c_{female} } } P(c|x)\n$$\n\ntherefor using bayes Rule and theank to likelihood that we can compute $p(x|c)$ we can reformulate and write general expression\n\n$$\n\\argmax_{c\\in C} \\frac{p(x|c)\\times p(c)}{p(x)}\n$$\n\nHowever we don't have $p(x)$ because we haven't seen all the x yet and there are a lots of unseen $x$ yet, but if you see the optimization it is independent from x, or better to say \nthe probability distribution of data is independent from our classess because the data does not know and care about being male or female so we simply can forget about that in our optimization pronblem\n\n*So\n\n$\n\\argmax_{c\\in C} p(x|c)\\times p(c)\n$", 
            "cell_type": "markdown", 
            "metadata": {}
        }, 
        {
            "source": "## lets try the Bayes Inference from Scratch", 
            "cell_type": "markdown", 
            "metadata": {}
        }, 
        {
            "execution_count": 5, 
            "cell_type": "code", 
            "metadata": {}, 
            "outputs": [
                {
                    "output_type": "stream", 
                    "name": "stdout", 
                    "text": "Cloning into 'sample_data'...\nremote: Enumerating objects: 9, done.\u001b[K\nremote: Counting objects: 100% (9/9), done.\u001b[K\nremote: Compressing objects: 100% (7/7), done.\u001b[K\nremote: Total 9 (delta 1), reused 0 (delta 0), pack-reused 0\u001b[K\nUnpacking objects: 100% (9/9), done.\n"
                }
            ], 
            "source": "!git clone https://github.com/saeedahmadian/sample_data.git\n"
        }, 
        {
            "execution_count": 6, 
            "cell_type": "code", 
            "metadata": {}, 
            "outputs": [], 
            "source": "df_data = spark.read\\\n  .format('org.apache.spark.sql.execution.datasources.csv.CSVFileFormat')\\\n  .option('header', 'true')\\\n  .option('inferSchema', 'true')\\\n  .option('nanValue', ' ')\\\n  .option('nullValue', ' ')\\\n  .load('sample_data/weight-height.csv')"
        }, 
        {
            "execution_count": 7, 
            "cell_type": "code", 
            "metadata": {}, 
            "outputs": [
                {
                    "output_type": "stream", 
                    "name": "stdout", 
                    "text": "+------+----------------+----------------+\n|Gender|          Height|          Weight|\n+------+----------------+----------------+\n|  Male| 73.847017017515|241.893563180437|\n|  Male|68.7819040458903|  162.3104725213|\n|  Male|74.1101053917849|  212.7408555565|\n|  Male|71.7309784033377|220.042470303077|\n|  Male|69.8817958611153|206.349800623871|\n|  Male|67.2530156878065|152.212155757083|\n|  Male|68.7850812516616|183.927888604031|\n|  Male|68.3485155115879|167.971110489509|\n|  Male| 67.018949662883| 175.92944039571|\n|  Male|63.4564939783664|156.399676387112|\n|  Male|71.1953822829745|186.604925560358|\n|  Male|71.6408051192206|213.741169489411|\n|  Male|64.7663291334055|167.127461073476|\n|  Male|69.2830700967204|189.446181386738|\n|  Male|69.2437322298112|186.434168021239|\n|  Male|67.6456197004212|172.186930058117|\n|  Male|72.4183166259878|196.028506330482|\n|  Male| 63.974325721061| 172.88347020878|\n|  Male|69.6400598997523| 185.98395757313|\n|  Male|67.9360048540095|182.426648013226|\n+------+----------------+----------------+\nonly showing top 20 rows\n\n"
                }
            ], 
            "source": "df_data.show()"
        }, 
        {
            "execution_count": 8, 
            "cell_type": "code", 
            "metadata": {}, 
            "outputs": [
                {
                    "output_type": "stream", 
                    "name": "stdout", 
                    "text": "+------+----------------+----------------+---+\n|Gender|          Height|          Weight|Sex|\n+------+----------------+----------------+---+\n|  Male| 73.847017017515|241.893563180437|0.0|\n|  Male|68.7819040458903|  162.3104725213|0.0|\n|  Male|74.1101053917849|  212.7408555565|0.0|\n|  Male|71.7309784033377|220.042470303077|0.0|\n|  Male|69.8817958611153|206.349800623871|0.0|\n|  Male|67.2530156878065|152.212155757083|0.0|\n|  Male|68.7850812516616|183.927888604031|0.0|\n|  Male|68.3485155115879|167.971110489509|0.0|\n|  Male| 67.018949662883| 175.92944039571|0.0|\n|  Male|63.4564939783664|156.399676387112|0.0|\n|  Male|71.1953822829745|186.604925560358|0.0|\n|  Male|71.6408051192206|213.741169489411|0.0|\n|  Male|64.7663291334055|167.127461073476|0.0|\n|  Male|69.2830700967204|189.446181386738|0.0|\n|  Male|69.2437322298112|186.434168021239|0.0|\n|  Male|67.6456197004212|172.186930058117|0.0|\n|  Male|72.4183166259878|196.028506330482|0.0|\n|  Male| 63.974325721061| 172.88347020878|0.0|\n|  Male|69.6400598997523| 185.98395757313|0.0|\n|  Male|67.9360048540095|182.426648013226|0.0|\n+------+----------------+----------------+---+\nonly showing top 20 rows\n\n"
                }
            ], 
            "source": "from pyspark.ml.feature import StringIndexer\nstind = StringIndexer(inputCol='Gender',outputCol='Sex')\ndata= stind.fit(df_data).transform(df_data)\ndata.show()"
        }, 
        {
            "execution_count": 13, 
            "cell_type": "code", 
            "metadata": {}, 
            "outputs": [], 
            "source": "df=data.sample(.1,False)"
        }, 
        {
            "execution_count": 14, 
            "cell_type": "code", 
            "metadata": {}, 
            "outputs": [
                {
                    "execution_count": 14, 
                    "metadata": {}, 
                    "data": {
                        "text/plain": "(1022, 3)"
                    }, 
                    "output_type": "execute_result"
                }
            ], 
            "source": "import numpy as np\nnpdata = np.array(df.select('Height','Weight','Sex').collect())\nnpdata.shape"
        }, 
        {
            "execution_count": 25, 
            "cell_type": "code", 
            "metadata": {}, 
            "outputs": [], 
            "source": "from sklearn.model_selection import train_test_split\nfeatures = npdata[:,[0,1]]\nlabels = npdata[:,2]\nfeature_train, feature_test, label_train, label_test = train_test_split(features,labels,test_size=0.2,random_state=100)"
        }, 
        {
            "execution_count": 19, 
            "cell_type": "code", 
            "metadata": {}, 
            "outputs": [
                {
                    "execution_count": 19, 
                    "metadata": {}, 
                    "data": {
                        "text/plain": "1022"
                    }, 
                    "output_type": "execute_result"
                }
            ], 
            "source": "labels.size"
        }, 
        {
            "execution_count": 21, 
            "cell_type": "code", 
            "metadata": {}, 
            "outputs": [
                {
                    "execution_count": 21, 
                    "metadata": {}, 
                    "data": {
                        "text/plain": "{0.0: 0.48043052837573386, 1.0: 0.5195694716242661}"
                    }, 
                    "output_type": "execute_result"
                }
            ], 
            "source": "def getpriors(labels):\n    priors ={}\n    for classname in labels:\n        N = labels.size\n        classoccurence = (labels==classname).sum()\n        priors[classname] = classoccurence/N\n    return priors\n\npriors= getpriors(labels)\npriors        \n        "
        }, 
        {
            "execution_count": 22, 
            "cell_type": "code", 
            "metadata": {}, 
            "outputs": [
                {
                    "execution_count": 22, 
                    "metadata": {}, 
                    "data": {
                        "text/plain": "array([0., 1.])"
                    }, 
                    "output_type": "execute_result"
                }
            ], 
            "source": "uniqueclass = np.unique(labels)\nuniqueclass"
        }, 
        {
            "execution_count": 26, 
            "cell_type": "code", 
            "metadata": {}, 
            "outputs": [
                {
                    "execution_count": 26, 
                    "metadata": {}, 
                    "data": {
                        "text/plain": "{0.0: [(69.13403554077037, 2.930658926690435),\n  (187.37257971197354, 20.83408798298229)],\n 1.0: [(63.705606774791775, 2.6222036997974185),\n  (136.3859698876928, 19.118292943402885)]}"
                    }, 
                    "output_type": "execute_result"
                }
            ], 
            "source": "def fit(features,labels):\n    uniqueclass = np.unique(labels)\n    coeffs ={}\n    for classname in uniqueclass:\n        featuresinclass= features[labels==classname]\n        statsinclass = [(np.mean(feature), np.std(feature)) for feature in zip(*featuresinclass)]\n        coeffs[classname] =statsinclass\n    return coeffs\n    \nmodel =fit(feature_train,label_train)\nmodel"
        }, 
        {
            "execution_count": 32, 
            "cell_type": "code", 
            "metadata": {}, 
            "outputs": [
                {
                    "execution_count": 32, 
                    "metadata": {}, 
                    "data": {
                        "text/plain": "array([0.13598486])"
                    }, 
                    "output_type": "execute_result"
                }
            ], 
            "source": "import math\ndef getlikelihood(x,featureind,model,classname):\n    classstats= model[classname]\n    mean = classstats[featureind][0]\n    std = classstats[featureind][1]\n    f = (1/(np.sqrt(2*math.pi*pow(std,2))))* np.exp(-pow((x-mean),2)/(2*pow(std,2)))\n    return f\nx =np.array([69]) #weight index is 0 so-->\nlikelihood_x_belongs_to_male =getlikelihood(x,0,model,0)\nlikelihood_x_belongs_to_male"
        }, 
        {
            "execution_count": null, 
            "cell_type": "code", 
            "metadata": {}, 
            "outputs": [], 
            "source": ""
        }
    ], 
    "metadata": {
        "kernelspec": {
            "display_name": "Python 3.6 with Spark", 
            "name": "python36", 
            "language": "python3"
        }, 
        "language_info": {
            "mimetype": "text/x-python", 
            "nbconvert_exporter": "python", 
            "version": "3.6.8", 
            "name": "python", 
            "file_extension": ".py", 
            "pygments_lexer": "ipython3", 
            "codemirror_mode": {
                "version": 3, 
                "name": "ipython"
            }
        }
    }, 
    "nbformat": 4
}